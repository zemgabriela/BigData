{
 "cells": [
  {
   "cell_type": "code",
   "execution_count": 41,
   "metadata": {},
   "outputs": [
    {
     "name": "stdout",
     "output_type": "stream",
     "text": [
      "Dataset downloaded and stored in a DataFrame successfully!\n"
     ]
    }
   ],
   "source": [
    "# ===== TASK ONE ====\n",
    "import requests\n",
    "import pandas as pd\n",
    "import io\n",
    "\n",
    "# =========== EXPLORE THE DATA FIRSTLY (CODE FROM THE WEBSITE) ============\n",
    "# from ucimlrepo import fetch_ucirepo \n",
    "  \n",
    "# # fetch dataset \n",
    "# online_retail = fetch_ucirepo(id=352) \n",
    "  \n",
    "# # data (as pandas dataframes) \n",
    "# X = online_retail.data.features \n",
    "# y = online_retail.data.targets \n",
    "  \n",
    "# # metadata \n",
    "# print(online_retail.metadata) \n",
    "  \n",
    "# # variable information \n",
    "# print(online_retail.variables) \n",
    "\n",
    "# =========== CREATE FUNCTION ============\n",
    "def download_dataset():\n",
    "\n",
    "    data_url = \"https://archive.ics.uci.edu/static/public/352/data.csv\"\n",
    "    response = requests.get(data_url)\n",
    "\n",
    "    # Check if the request was successful\n",
    "    if response.status_code == 200:\n",
    "        # Convert the content of the response to a pandas DataFrame\n",
    "        df = pd.read_csv(io.StringIO(response.text))\n",
    "        print(\"Dataset downloaded and stored in a DataFrame successfully!\")\n",
    "    else:\n",
    "        print(f\"Failed to download the dataset. Status code: {response.status_code}\")\n",
    "\n",
    "    # Store it into the designated data directory\n",
    "    df.to_csv(\"data/train.csv\", index = False)\n",
    "\n",
    "download_dataset()"
   ]
  },
  {
   "cell_type": "code",
   "execution_count": 52,
   "metadata": {},
   "outputs": [],
   "source": [
    "df = pd.read_csv(\"data/train.csv\")"
   ]
  },
  {
   "cell_type": "code",
   "execution_count": 43,
   "metadata": {},
   "outputs": [
    {
     "name": "stdout",
     "output_type": "stream",
     "text": [
      "<class 'pandas.core.frame.DataFrame'>\n",
      "RangeIndex: 541909 entries, 0 to 541908\n",
      "Data columns (total 8 columns):\n",
      " #   Column       Non-Null Count   Dtype         \n",
      "---  ------       --------------   -----         \n",
      " 0   InvoiceNo    541909 non-null  object        \n",
      " 1   StockCode    541909 non-null  object        \n",
      " 2   Description  540455 non-null  object        \n",
      " 3   Quantity     541909 non-null  int64         \n",
      " 4   InvoiceDate  541909 non-null  datetime64[ns]\n",
      " 5   UnitPrice    541909 non-null  float64       \n",
      " 6   CustomerID   541909 non-null  object        \n",
      " 7   Country      541909 non-null  object        \n",
      "dtypes: datetime64[ns](1), float64(1), int64(1), object(5)\n",
      "memory usage: 33.1+ MB\n"
     ]
    }
   ],
   "source": [
    "# ===== TASK TWO ====\n",
    "# ===== HANDLE MISSING VALUES ====\n",
    "# Find and display missing values\n",
    "missing_values = df.isnull().sum()\n",
    "print(\"Missing values in each column:\")\n",
    "print(missing_values)\n",
    "\n",
    "# Description can be filled, but when it comes to customerid, let's have a look if the same invoice\n",
    "# has more customerid values so we could maybe fill it like that\n",
    "invoice_customer_check = df.groupby('InvoiceNo')['CustomerID'].nunique()\n",
    "discrepancies = invoice_customer_check[invoice_customer_check > 1]\n",
    "print(\"Invoices with different Customer IDs:\")\n",
    "# it doesn't so we can't fill customerid\n",
    "\n",
    "# Display rows with missing values\n",
    "rows_with_missing_values = df[df.isnull().any(axis=1)]\n",
    "print(\"Rows with missing values:\")\n",
    "print(rows_with_missing_values)\n",
    "\n",
    "# Fill missing values in Description based on StockCode\n",
    "stockcode_description_map = (df.dropna(subset=['Description'])\n",
    "                             .drop_duplicates('StockCode')[['StockCode', 'Description']]\n",
    "                             .set_index('StockCode')['Description']\n",
    "                             .to_dict())\n",
    "\n",
    "df['Description'] = df['Description'].fillna(df['StockCode'].map(stockcode_description_map))\n",
    "print(\"Missing values in Description column filled successfully!\")\n",
    "\n",
    "# ===== CONVERT DATA TYPES ====\n",
    "# df.info()\n",
    "# Using the variables table in the website we see most of the variables as converted correctly.\n",
    "# so InvoiceNo is object which we agreed should be an object and not numeric, since in the table it's categorical\n",
    "# only variable to change is InvoiceDate and CustomerID\n",
    "df['InvoiceDate'] = pd.to_datetime(df['InvoiceDate'], format='%m/%d/%Y %H:%M')\n",
    "df['CustomerID'] = df['CustomerID'].astype('float').astype('Int64').astype(str)\n",
    "# ===== REMOVE DUPLICATES VALUES ====\n",
    "df = df.drop_duplicates().reset_index(drop = True)"
   ]
  }
 ],
 "metadata": {
  "kernelspec": {
   "display_name": "base",
   "language": "python",
   "name": "python3"
  },
  "language_info": {
   "codemirror_mode": {
    "name": "ipython",
    "version": 3
   },
   "file_extension": ".py",
   "mimetype": "text/x-python",
   "name": "python",
   "nbconvert_exporter": "python",
   "pygments_lexer": "ipython3",
   "version": "3.11.4"
  },
  "orig_nbformat": 4
 },
 "nbformat": 4,
 "nbformat_minor": 2
}
